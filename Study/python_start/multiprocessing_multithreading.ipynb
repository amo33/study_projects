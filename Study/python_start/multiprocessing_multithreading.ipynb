{
  "cells": [
    {
      "cell_type": "markdown",
      "metadata": {},
      "source": [
        "## Process 와 thread의 차이 공부 \n",
        "- process란 실행하고 있는 컴퓨터의 프로그램을 의미한다\n",
        "- 스레드란 process의 단위라고 생각하면 된다. \n",
        "1. Thread \n",
        "스레드는 단일 cpu에서 돌아갈 수 있다. 스레드는 resource를 공유하는데 heap, code, data를 공유하고 있다.\n",
        "스레드는 os를 사용한 전환이 필요하지 않다. concurrency의 특징을 가지는데 이는 동시성이란 표현으로 같은 cpu를 공유하면서 스레드를 실행한다고 한다. \n",
        "2. Process \n",
        "프로세스는 multiprocess 시 paraellism을 가지게된다. process간의 전환 시 os의 context switching이 사용된다. 단일 cpu에서는 multi process가 안된다고 한다. \n",
        "- GIL \n",
        "파이썬은 인터프리터이기 때문에 편리함을 고수하고자 다중 쓰레드의 구현이 실제로 안된다고 한다. 즉, 아무리 다중 스레드로 구현해도 단일 스레드로 진행된다고 한다. "
      ]
    },
    {
      "cell_type": "code",
      "execution_count": 1,
      "metadata": {
        "colab": {
          "base_uri": "https://localhost:8080/",
          "height": 51
        },
        "id": "iCNwPwZ3ONmd",
        "outputId": "577f719a-a94d-4c90-f02a-0dd4f262b610"
      },
      "outputs": [
        {
          "name": "stdout",
          "output_type": "stream",
          "text": [
            "Function is starting!  test pid: 20344 thread id: 11592\n",
            "Function is starting!  user pid: 20344 thread id: 18100\n"
          ]
        }
      ],
      "source": [
        "import threading\n",
        "import time\n",
        "import os\n",
        "\n",
        "def hello(s):\n",
        "  print('Function is starting! ', s, 'pid:', os.getpid(), 'thread id:', threading.get_ident())\n",
        "  time.sleep(1)\n",
        "\n",
        "t1 = threading.Thread(target=hello, args=['test'])\n",
        "t2 = threading.Thread(target=hello, args=['user'])\n",
        "t1.start()\n",
        "t2.start()\n",
        "t1.join()\n",
        "t2.join()\n"
      ]
    },
    {
      "cell_type": "code",
      "execution_count": 3,
      "metadata": {
        "colab": {
          "base_uri": "https://localhost:8080/",
          "height": 51
        },
        "id": "WrlaolovOyEE",
        "outputId": "18feeda2-0fd1-4d59-8213-2126bce86a19"
      },
      "outputs": [],
      "source": [
        "import multiprocessing\n",
        "import time\n",
        "import os\n",
        "\n",
        "def hello(s):\n",
        "  print('Function is starting! ', s, 'pid:', os.getpid(), 'thread id:', threading.get_ident())\n",
        "  time.sleep(1)\n",
        "\n",
        "p1 = multiprocessing.Process(target=hello, args=['test'])\n",
        "p2 = multiprocessing.Process(target=hello, args=['user'])\n",
        "p1.start()\n",
        "p2.start()\n",
        "p1.join()\n",
        "p2.join()"
      ]
    },
    {
      "cell_type": "markdown",
      "metadata": {},
      "source": [
        "## Below code is the example of thread pool from A.I holic youtube. \n",
        "This code shows us the difference of parallelism and concurrency. (== which is multi-thread vs multi-process)\n",
        "By ploting the result, we can see that multi-threading is actually sharing one cpu. Thus in multi-processing, each of process is actually using cpu full-time"
      ]
    },
    {
      "cell_type": "code",
      "execution_count": null,
      "metadata": {
        "colab": {
          "base_uri": "https://localhost:8080/",
          "height": 465
        },
        "id": "mbaChx3_D7-j",
        "outputId": "1a11136b-8818-424d-fc6e-3a4666172970"
      },
      "outputs": [
        {
          "name": "stdout",
          "output_type": "stream",
          "text": [
            "multithreading started workers: 4\n",
            "Functions start!  0 pid: 118 thread id: 140100374349568\n",
            "Functions start!  1 pid: 118 thread id: 140100382742272\n",
            "Functions start!  2 pid: 118 thread id: 140100336588544\n",
            "Functions start!  3 pid: 118 thread id: 140100365956864\n",
            "multiprocessing started workers: 4\n",
            "Functions start!  0 pid: 199 thread id: 140100992149376\n",
            "Functions start!  2 pid: 201 thread id: 140100992149376\n",
            "Functions start!  1 pid: 200 thread id: 140100992149376\n",
            "Functions start!  3 pid: 202 thread id: 140100992149376\n"
          ]
        },
        {
          "data": {
            "image/png": "[encoded data removed]",
            "text/plain": [
              "<Figure size 864x288 with 2 Axes>"
            ]
          },
          "metadata": {
            "needs_background": "light",
            "tags": []
          },
          "output_type": "display_data"
        }
      ],
      "source": [
        "import os\n",
        "import time\n",
        "import threading\n",
        "from concurrent.futures import ProcessPoolExecutor, ThreadPoolExecutor\n",
        "\n",
        "import matplotlib.pyplot as plt\n",
        "import numpy as np\n",
        "\n",
        "printlock = threading.Lock()\n",
        "\n",
        "def multithreading(func, args, workers):\n",
        "    print(\"multithreading started workers:\", workers)\n",
        "    with ThreadPoolExecutor(workers) as ex:\n",
        "        res = ex.map(func, args)\n",
        "    return list(res)\n",
        "\n",
        "\n",
        "def multiprocessing(func, args, workers):\n",
        "    print(\"multiprocessing started workers:\", workers)\n",
        "    with ProcessPoolExecutor(workers) as ex:\n",
        "        res = ex.map(func, args)\n",
        "    return list(res)\n",
        "\n",
        "\n",
        "def live_tracker(x):\n",
        "    with printlock:\n",
        "      print('Functions start! ', x, \"pid:\", os.getpid(), \"thread id:\", threading.get_ident())\n",
        "    reference = time.time()\n",
        "    l = []\n",
        "    for i in range(10**6):\n",
        "        l.append(time.time() - reference)\n",
        "    return l\n",
        "\n",
        "\n",
        "def visualize_live_runtimes(results, title):\n",
        "    for i, exp in enumerate(results):\n",
        "        plt.scatter(exp, np.ones(len(exp)) * i, alpha=0.8, c='red', edgecolors='none', s=1)\n",
        "\n",
        "    plt.grid(axis='x')\n",
        "    plt.ylabel(\"Tasks\")\n",
        "    ytks = range(len(results))\n",
        "    plt.yticks(ytks, ['job {}'.format(exp) for exp in ytks])\n",
        "    plt.xlabel(\"Seconds\")\n",
        "    plt.title(title)\n",
        "\n",
        "\n",
        "plt.figure(figsize=(12, 4))\n",
        "plt.subplot(1, 2, 1)\n",
        "visualize_live_runtimes(multithreading(live_tracker, range(4), 4), \"Multithreading\")\n",
        "plt.subplot(1, 2, 2)\n",
        "visualize_live_runtimes(multiprocessing(live_tracker, range(4), 4), \"Multiprocessing\")\n",
        "plt.show()"
      ]
    },
    {
      "cell_type": "code",
      "execution_count": null,
      "metadata": {
        "colab": {
          "base_uri": "https://localhost:8080/",
          "height": 34
        },
        "id": "VjdQi-3If9iO",
        "outputId": "562e1f84-a459-487e-ad81-d66f2aa49f4a"
      },
      "outputs": [
        {
          "data": {
            "text/plain": [
              "2"
            ]
          },
          "execution_count": 35,
          "metadata": {
            "tags": []
          },
          "output_type": "execute_result"
        }
      ],
      "source": [
        "import multiprocessing\n",
        "multiprocessing.cpu_count()"
      ]
    }
  ],
  "metadata": {
    "colab": {
      "name": "multiprocessing multithreading.ipynb",
      "provenance": []
    },
    "kernelspec": {
      "display_name": "Python 3.8.5 ('base')",
      "language": "python",
      "name": "python3"
    },
    "language_info": {
      "codemirror_mode": {
        "name": "ipython",
        "version": 3
      },
      "file_extension": ".py",
      "mimetype": "text/x-python",
      "name": "python",
      "nbconvert_exporter": "python",
      "pygments_lexer": "ipython3",
      "version": "3.8.5"
    },
    "vscode": {
      "interpreter": {
        "hash": "82f830dbf2bedede5f6a6fd84a718d579e894f86bdba96d28c0990c901c667f6"
      }
    }
  },
  "nbformat": 4,
  "nbformat_minor": 0
}
