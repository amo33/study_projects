{
  "nbformat": 4,
  "nbformat_minor": 0,
  "metadata": {
    "colab": {
      "name": "transformer_structure_study.ipynb",
      "provenance": [],
      "collapsed_sections": []
    },
    "kernelspec": {
      "name": "python3",
      "display_name": "Python 3"
    },
    "language_info": {
      "name": "python"
    },
    "accelerator": "GPU",
    "gpuClass": "standard"
  },
  "cells": [
    {
      "cell_type": "markdown",
      "source": [
        "- All of this code practice is based on this programmer (Very helpful to study)\n",
        "https://www.youtube.com/watch?v=AA621UofTUA&list=LL&index=2"
      ],
      "metadata": {
        "id": "jKzsc3S5J-c7"
      }
    },
    {
      "cell_type": "code",
      "execution_count": 3,
      "metadata": {
        "colab": {
          "base_uri": "https://localhost:8080/"
        },
        "id": "t9mmEpWEb1Hn",
        "outputId": "08972623-8205-46b1-ae19-ad15278be781"
      },
      "outputs": [
        {
          "output_type": "stream",
          "name": "stdout",
          "text": [
            "Looking in indexes: https://pypi.org/simple, https://us-python.pkg.dev/colab-wheels/public/simple/\n",
            "Collecting torchtext==0.6.0\n",
            "  Downloading torchtext-0.6.0-py3-none-any.whl (64 kB)\n",
            "\u001b[K     |████████████████████████████████| 64 kB 1.7 MB/s \n",
            "\u001b[?25hRequirement already satisfied: torch in /usr/local/lib/python3.7/dist-packages (from torchtext==0.6.0) (1.12.1+cu113)\n",
            "Requirement already satisfied: numpy in /usr/local/lib/python3.7/dist-packages (from torchtext==0.6.0) (1.21.6)\n",
            "Collecting sentencepiece\n",
            "  Downloading sentencepiece-0.1.97-cp37-cp37m-manylinux_2_17_x86_64.manylinux2014_x86_64.whl (1.3 MB)\n",
            "\u001b[K     |████████████████████████████████| 1.3 MB 6.4 MB/s \n",
            "\u001b[?25hRequirement already satisfied: requests in /usr/local/lib/python3.7/dist-packages (from torchtext==0.6.0) (2.23.0)\n",
            "Requirement already satisfied: six in /usr/local/lib/python3.7/dist-packages (from torchtext==0.6.0) (1.15.0)\n",
            "Requirement already satisfied: tqdm in /usr/local/lib/python3.7/dist-packages (from torchtext==0.6.0) (4.64.0)\n",
            "Requirement already satisfied: urllib3!=1.25.0,!=1.25.1,<1.26,>=1.21.1 in /usr/local/lib/python3.7/dist-packages (from requests->torchtext==0.6.0) (1.24.3)\n",
            "Requirement already satisfied: certifi>=2017.4.17 in /usr/local/lib/python3.7/dist-packages (from requests->torchtext==0.6.0) (2022.6.15)\n",
            "Requirement already satisfied: idna<3,>=2.5 in /usr/local/lib/python3.7/dist-packages (from requests->torchtext==0.6.0) (2.10)\n",
            "Requirement already satisfied: chardet<4,>=3.0.2 in /usr/local/lib/python3.7/dist-packages (from requests->torchtext==0.6.0) (3.0.4)\n",
            "Requirement already satisfied: typing-extensions in /usr/local/lib/python3.7/dist-packages (from torch->torchtext==0.6.0) (4.1.1)\n",
            "Installing collected packages: sentencepiece, torchtext\n",
            "  Attempting uninstall: torchtext\n",
            "    Found existing installation: torchtext 0.13.1\n",
            "    Uninstalling torchtext-0.13.1:\n",
            "      Successfully uninstalled torchtext-0.13.1\n",
            "Successfully installed sentencepiece-0.1.97 torchtext-0.6.0\n"
          ]
        }
      ],
      "source": [
        "!pip install torchtext==0.6.0"
      ]
    },
    {
      "cell_type": "code",
      "source": [
        "%%capture\n",
        "!python -m spacy download en\n",
        "!python -m spacy download de"
      ],
      "metadata": {
        "id": "yu1m5p-sb_zb"
      },
      "execution_count": 4,
      "outputs": []
    },
    {
      "cell_type": "code",
      "source": [
        "import spacy \n",
        "\n",
        "spacy_en = spacy.load('en_core_web_sm') # 영어 토큰 \n",
        "spacy_de = spacy.load('de_core_news_sm')"
      ],
      "metadata": {
        "id": "aMQlwviwcSN4"
      },
      "execution_count": 5,
      "outputs": []
    },
    {
      "cell_type": "code",
      "source": [
        "tokenized = spacy_en.tokenizer('I am a graduate student.')\n",
        "\n",
        "for i , token in enumerate(tokenized):\n",
        "    print(f\"Index {i}: {token.text}\") # 토큰으로 바뀜 "
      ],
      "metadata": {
        "colab": {
          "base_uri": "https://localhost:8080/"
        },
        "id": "_fIQXEQEc5I0",
        "outputId": "f9b64863-0bb7-488a-a492-03220a3a849a"
      },
      "execution_count": 6,
      "outputs": [
        {
          "output_type": "stream",
          "name": "stdout",
          "text": [
            "Index 0: I\n",
            "Index 1: am\n",
            "Index 2: a\n",
            "Index 3: graduate\n",
            "Index 4: student\n",
            "Index 5: .\n"
          ]
        }
      ]
    },
    {
      "cell_type": "code",
      "source": [
        "def tokenize_de(text):\n",
        "  return [token.text for token in spacy_de.tokenizer(text)]\n",
        "\n",
        "def tokenize_en(text):\n",
        "  return [token.text for token in spacy_en.tokenizer(text)]"
      ],
      "metadata": {
        "id": "1ZH5F_ZddyvM"
      },
      "execution_count": 7,
      "outputs": []
    },
    {
      "cell_type": "code",
      "source": [
        "from torchtext.data import Field, BucketIterator \n",
        "\n",
        "SOURCE = Field(tokenize=tokenize_de, init_token=\"<sos>\",eos_token=\"<eos>\", lower=True, batch_first=True) \n",
        "TARGET = Field(tokenize=tokenize_en, init_token=\"<sos>\",eos_token=\"<eos>\",lower=True, batch_first=True)"
      ],
      "metadata": {
        "id": "fhhgALpfeICQ"
      },
      "execution_count": 8,
      "outputs": []
    },
    {
      "cell_type": "code",
      "source": [
        "from torchtext.datasets import Multi30k \n",
        "\n",
        "train_dataset , valid_dataset , test_dataset = Multi30k.splits(exts=(\".de\",\".en\"), fields=(SOURCE, TARGET))"
      ],
      "metadata": {
        "colab": {
          "base_uri": "https://localhost:8080/"
        },
        "id": "bhSBrn9je9F5",
        "outputId": "aa0521ec-29c7-4242-cee8-9fa5bd872aff"
      },
      "execution_count": 9,
      "outputs": [
        {
          "output_type": "stream",
          "name": "stdout",
          "text": [
            "downloading training.tar.gz\n"
          ]
        },
        {
          "output_type": "stream",
          "name": "stderr",
          "text": [
            "training.tar.gz: 100%|██████████| 1.21M/1.21M [00:01<00:00, 932kB/s] \n"
          ]
        },
        {
          "output_type": "stream",
          "name": "stdout",
          "text": [
            "downloading validation.tar.gz\n"
          ]
        },
        {
          "output_type": "stream",
          "name": "stderr",
          "text": [
            "validation.tar.gz: 100%|██████████| 46.3k/46.3k [00:00<00:00, 247kB/s]\n"
          ]
        },
        {
          "output_type": "stream",
          "name": "stdout",
          "text": [
            "downloading mmt_task1_test2016.tar.gz\n"
          ]
        },
        {
          "output_type": "stream",
          "name": "stderr",
          "text": [
            "mmt_task1_test2016.tar.gz: 100%|██████████| 66.2k/66.2k [00:00<00:00, 238kB/s]\n"
          ]
        }
      ]
    },
    {
      "cell_type": "code",
      "source": [
        "print(vars(train_dataset.examples[10])['src']) # 학습 데이터 예제 \n",
        "print(vars(train_dataset.examples[10])['trg'])"
      ],
      "metadata": {
        "colab": {
          "base_uri": "https://localhost:8080/"
        },
        "id": "gdYb2l9CfP14",
        "outputId": "d30e94cc-39ed-4443-d200-a5eb50e5a70a"
      },
      "execution_count": 10,
      "outputs": [
        {
          "output_type": "stream",
          "name": "stdout",
          "text": [
            "['eine', 'ballettklasse', 'mit', 'fünf', 'mädchen', ',', 'die', 'nacheinander', 'springen', '.']\n",
            "['a', 'ballet', 'class', 'of', 'five', 'girls', 'jumping', 'in', 'sequence', '.']\n"
          ]
        }
      ]
    },
    {
      "cell_type": "code",
      "source": [
        "vars(train_dataset.examples[10]).keys()"
      ],
      "metadata": {
        "colab": {
          "base_uri": "https://localhost:8080/"
        },
        "id": "M5txwHf2i6BI",
        "outputId": "e578e6d4-0293-4bbc-e588-d475087a57f0"
      },
      "execution_count": 11,
      "outputs": [
        {
          "output_type": "execute_result",
          "data": {
            "text/plain": [
              "dict_keys(['src', 'trg'])"
            ]
          },
          "metadata": {},
          "execution_count": 11
        }
      ]
    },
    {
      "cell_type": "code",
      "source": [
        "SOURCE.build_vocab(train_dataset, min_freq=2)\n",
        "TARGET.build_vocab(train_dataset, min_freq=2) # make each vocabulary set"
      ],
      "metadata": {
        "id": "RzFIU56viA73"
      },
      "execution_count": 12,
      "outputs": []
    },
    {
      "cell_type": "code",
      "source": [
        "print(len(SOURCE.vocab))\n",
        "print(len(TARGET.vocab))"
      ],
      "metadata": {
        "colab": {
          "base_uri": "https://localhost:8080/"
        },
        "id": "eM_o_K42i1XU",
        "outputId": "d583a3be-9d8d-4ade-b361-764f0e4099e5"
      },
      "execution_count": 13,
      "outputs": [
        {
          "output_type": "stream",
          "name": "stdout",
          "text": [
            "7853\n",
            "5893\n"
          ]
        }
      ]
    },
    {
      "cell_type": "code",
      "source": [
        "import torch \n",
        "\n",
        "device = torch.device('cuda' if torch.cuda.is_available() else 'cpu')\n",
        "\n",
        "BATCH_SIZE = 128 \n",
        "\n",
        "train_iterator , valid_iterator , test_iterator = BucketIterator.splits(\n",
        "    (train_dataset, valid_dataset, test_dataset),\n",
        "    batch_size= BATCH_SIZE,\n",
        "    device = device\n",
        ")"
      ],
      "metadata": {
        "id": "kNGjlhw5jREh"
      },
      "execution_count": 14,
      "outputs": []
    },
    {
      "cell_type": "code",
      "source": [
        "for i , batch in enumerate(train_iterator):\n",
        "  source = batch.src\n",
        "  target = batch.trg \n",
        "  print(f\"first batch size: {source.shape}\")\n",
        "\n",
        "  for i in range(source.shape[1]):\n",
        "    print(f\"index {i}: {source[0][i].item()}\")\n",
        "  break"
      ],
      "metadata": {
        "colab": {
          "base_uri": "https://localhost:8080/"
        },
        "id": "mFkkuGaimgNM",
        "outputId": "91df2785-918e-4442-f9b6-817fa1dc006a"
      },
      "execution_count": 15,
      "outputs": [
        {
          "output_type": "stream",
          "name": "stdout",
          "text": [
            "first batch size: torch.Size([128, 27])\n",
            "index 0: 2\n",
            "index 1: 18\n",
            "index 2: 174\n",
            "index 3: 30\n",
            "index 4: 52\n",
            "index 5: 7\n",
            "index 6: 6\n",
            "index 7: 790\n",
            "index 8: 6277\n",
            "index 9: 276\n",
            "index 10: 3301\n",
            "index 11: 1549\n",
            "index 12: 10\n",
            "index 13: 185\n",
            "index 14: 23\n",
            "index 15: 4\n",
            "index 16: 3\n",
            "index 17: 1\n",
            "index 18: 1\n",
            "index 19: 1\n",
            "index 20: 1\n",
            "index 21: 1\n",
            "index 22: 1\n",
            "index 23: 1\n",
            "index 24: 1\n",
            "index 25: 1\n",
            "index 26: 1\n"
          ]
        }
      ]
    },
    {
      "cell_type": "markdown",
      "source": [
        "## Multi-head attention \n",
        "Mutli-head attention is summing up a number of heads which is generated by self-attention\n",
        "\n",
        "It gets three inputs. \n",
        "Q, K, V - These three of them are actually aiming common things but each of them is used for different purposes. \n",
        "1. Q - question \n",
        "  -> This information means what does this word(token) means and what happens if we use this? \n",
        "2. Key - meaning of this token \n",
        " -> This is mainly used dot product iwth Q in order to extract the meaning of certain Q('th token)\n",
        "3. Value - The value itself \n",
        " -> I understood this concept as the quantity of each tokens."
      ],
      "metadata": {
        "id": "fvbCcNepnz-e"
      }
    },
    {
      "cell_type": "code",
      "source": [
        "import torch.nn as nn \n",
        "\n",
        "class MultiHeadAttentionLayer(nn.Module):\n",
        "    def __init__(self, hidden_dim, n_heads, dropout_ratio, device):\n",
        "        super().__init__()\n",
        "\n",
        "        assert hidden_dim % n_heads == 0\n",
        "\n",
        "        self.hidden_dim = hidden_dim\n",
        "        self.n_heads = n_heads \n",
        "        self.head_dim = hidden_dim // self.n_heads # 각 head에서의 embedding 차원을 이렇게 구해줘야한다. 이유는 n times 돌아가기 위해서는 heads를 concat하면 input의 크기와 동일해야하기 때문이다. \n",
        "        self.dropout = nn.Dropout(dropout_ratio) \n",
        "\n",
        "        self.fc_q = nn.Linear(hidden_dim, hidden_dim)\n",
        "        self.fc_k = nn.Linear(hidden_dim, hidden_dim)\n",
        "        self.fc_v = nn.Linear(hidden_dim, hidden_dim)\n",
        "\n",
        "        self.fc_o = nn.Linear(hidden_dim, hidden_dim)\n",
        "\n",
        "        self.scale = torch.sqrt(torch.FloatTensor([self.head_dim])).to(device)\n",
        "    \n",
        "    def forward(self, Q, K, V,mask=None):\n",
        "\n",
        "        batch_size = Q.shape[0] # batch size extract \n",
        "       \n",
        "        Q = self.fc_q(Q)\n",
        "        K = self.fc_k(K)\n",
        "        V = self.fc_v(V)\n",
        "        # n_heads X head_dim 형태로 view \n",
        "        Q = Q.view(batch_size, -1, self.n_heads, self.head_dim).permute(0,2,1,3)\n",
        "        K = K.view(batch_size, -1, self.n_heads, self.head_dim).permute(0,2,1,3)\n",
        "        V = V.view(batch_size, -1, self.n_heads, self.head_dim).permute(0,2,1,3)\n",
        "        \n",
        "        energy = torch.matmul(Q, K.permute(0,1,3,2)) / self.scale\n",
        "        if mask is not None: # if mask가 들어오면, 0 인 부분을 -1e10을 채운다. \n",
        "            energy = energy.masked_fill(mask==0, -1e10) # mask\n",
        "          \n",
        "        attention = torch.softmax(energy, dim=-1) # 알파 값들을 구한것과 같다. \n",
        "        x = torch.matmul(self.dropout(attention), V) # 이제 나온 알파 값들에 dropout을 적용하고 이를 행렬 곱 진행 \n",
        "\n",
        "        x = x.permute(0,2,1,3).contiguous() # contiguous method is used to make torch to store in the right way (Not sure what this really means but it means solving disorder)\n",
        "\n",
        "        x = x.view(batch_size, -1, self.hidden_dim) # we might be confuse to use reshape, but it is recommended to use .view() if we want to update original data.  \n",
        "        x = self.fc_o(x)\n",
        "        return x, attention"
      ],
      "metadata": {
        "id": "3AA14aaFnhXB"
      },
      "execution_count": 16,
      "outputs": []
    },
    {
      "cell_type": "code",
      "source": [
        "class PositionwiseFeedFowwardLayer(nn.Module):\n",
        "    def __init__(self, hidden_dim, pf_dim, dropout_ratio):\n",
        "        super().__init__()\n",
        "        # pf_dim is an internal dimension used in FC layer \n",
        "        self.layer1 = nn.Linear(hidden_dim, pf_dim)\n",
        "        self.layer2 = nn.Linear(pf_dim, hidden_dim)\n",
        "        self.dropout = nn.Dropout(dropout_ratio)\n",
        "\n",
        "    # It is very important to catch that the fc layer is also on the rule that input_dim == output_dim! - since output becomes input  \n",
        "    def forward(self, x):\n",
        "      x = self.dropout(torch.relu(self.layer1(x)))\n",
        "      x = self.layer2(x)\n",
        "\n",
        "      return x "
      ],
      "metadata": {
        "id": "8z0mNCOD8LrJ"
      },
      "execution_count": 17,
      "outputs": []
    },
    {
      "cell_type": "markdown",
      "source": [
        "## Encoder layer \n",
        "\n",
        "-> 위에서 사용된 Feedforward와 attetntion을 사용 \n",
        "- input and output shape are identical \n",
        "- normally 6 times, encoder is used. \n",
        "- Add + normalization is also implemented \n"
      ],
      "metadata": {
        "id": "MvZHFVE5Uz0V"
      }
    },
    {
      "cell_type": "code",
      "source": [
        "class EncoderLayer(nn.Module):\n",
        "    def __init__(self, hidden_dim, n_heads, pf_dim, dropout_ratio, device):\n",
        "        super().__init__()\n",
        "\n",
        "        self.self_attn_layer_norm = nn.LayerNorm(hidden_dim)\n",
        "        self.ff_layer_norm = nn.LayerNorm(hidden_dim) # ff 후의 add + norm 에서 사용될 것 \n",
        "        self.self_attention = MultiHeadAttentionLayer(hidden_dim, n_heads, dropout_ratio, device) \n",
        "        self.positionwise_feedforward = PositionwiseFeedFowwardLayer(hidden_dim, pf_dim, dropout_ratio)\n",
        "        self.dropout = nn.Dropout(dropout_ratio)\n",
        "    def forward(self, source, mask):\n",
        "\n",
        "      out_src , _ = self.self_attention(source, source, source ,mask) # Q, K ,V starts from the same \n",
        "      src = self.self_attn_layer_norm(source + self.dropout(out_src))\n",
        "\n",
        "      src = self.positionwise_feedforward(src)\n",
        "      src = self.ff_layer_norm(source + self.dropout(src))\n",
        "\n",
        "      return src "
      ],
      "metadata": {
        "id": "fOcNTlH8UTIY"
      },
      "execution_count": 18,
      "outputs": []
    },
    {
      "cell_type": "code",
      "source": [
        "class Encoder(nn.Module):\n",
        "    def __init__(self, input_dim, hidden_dim, n_layers, n_heads, pf_dim, dropout_ratio, device, max_length=100):\n",
        "        super().__init__()\n",
        "\n",
        "        self.device = device \n",
        "\n",
        "        self.tok_embedding = nn.Embedding(input_dim, hidden_dim)\n",
        "        self.pos_embedding = nn.Embedding(max_length, hidden_dim) # positional encoding 을 학습하는 방식 \n",
        "\n",
        "        self.layers = nn.ModuleList([EncoderLayer(hidden_dim, n_heads, pf_dim, dropout_ratio, device) for _ in range(n_layers)]) # 여러번의 encoder layer를 실행 \n",
        "\n",
        "        self.dropout = nn.Dropout(dropout_ratio)\n",
        "        self.scale = torch.sqrt(torch.FloatTensor([hidden_dim])).to(device)\n",
        "    def forward(self, source ,mask):\n",
        "        batch_size = source.shape[0]\n",
        "        source_length = source.shape[1]\n",
        "\n",
        "        pos = torch.arange(0, source_length).unsqueeze(0).repeat(batch_size, 1).to(self.device) # positional embedding 정보 \n",
        "\n",
        "        source = self.dropout((self.tok_embedding(source)*self.scale) + self.pos_embedding(pos))\n",
        "\n",
        "        for layer in self.layers:\n",
        "          source = layer(source , mask )\n",
        "\n",
        "        return source \n",
        "    "
      ],
      "metadata": {
        "id": "R_2rJr_hYwLx"
      },
      "execution_count": 19,
      "outputs": []
    },
    {
      "cell_type": "markdown",
      "source": [
        "## Decoder layer \n",
        "- 입력과 출력의 차원이 같다. \n",
        "- Decoder도 encoder처럼 여러번 사용된다.\n",
        "- we use two types of attention - 1. encoder- decoder attention 2. self.attention"
      ],
      "metadata": {
        "id": "5khmFoDgbUjR"
      }
    },
    {
      "cell_type": "code",
      "source": [
        "class DecoderLayer(nn.Module):\n",
        "    def __init__(self, hidden_dim, n_heads, pf_dim, dropout_ratio, device):\n",
        "        super().__init__()\n",
        "\n",
        "        self.self_attn_layer_norm = nn.LayerNorm(hidden_dim)\n",
        "        self.enc_attn_layer_norm = nn.LayerNorm(hidden_dim)\n",
        "        self.ff_layer_norm = nn.LayerNorm(hidden_dim)\n",
        "        self.self_attention = MultiHeadAttentionLayer(hidden_dim, n_heads, dropout_ratio, device) \n",
        "        self.encoder_attention = MultiHeadAttentionLayer(hidden_dim, n_heads, dropout_ratio, device)\n",
        "        self.postionwise_feedforward = PositionwiseFeedFowwardLayer(hidden_dim, pf_dim, dropout_ratio) \n",
        "        self.dropout = nn.Dropout(dropout_ratio)  \n",
        "\n",
        "    def forward(self, trg , enc_source, target_mask, source_mask):\n",
        "        target , _ = self.self_attention(trg, trg, trg,target_mask) # target 중 앞 부분 정보만 쓸 수 있게 mask 사용 \n",
        "\n",
        "        trg = self.self_attn_layer_norm(trg + self.dropout(target)) \n",
        "\n",
        "        target , attention = self.encoder_attention(trg, enc_source, enc_source, source_mask) # target - from decoder else are from encoder attention output \n",
        "        trg = self.self_attn_layer_norm(trg + self.dropout(target))\n",
        "\n",
        "        target = self.postionwise_feedforward(trg) # feedforward \n",
        "        trg = self.ff_layer_norm(trg + self.dropout(target)) \n",
        "\n",
        "        return trg , attention "
      ],
      "metadata": {
        "id": "IMmBP1H8bSc_"
      },
      "execution_count": 20,
      "outputs": []
    },
    {
      "cell_type": "code",
      "source": [
        "class Decoder(nn.Module):\n",
        "    def __init__(self, output_dim, hidden_dim, n_layers, n_heads , pf_dim, dropout_ratio, device, max_length=100):\n",
        "        super().__init__()\n",
        "\n",
        "        self.device = device \n",
        "        self.tok_embedding = nn.Embedding(output_dim, hidden_dim)\n",
        "        self.pos_embedding = nn.Embedding(max_length, hidden_dim) \n",
        "\n",
        "        self.layers = nn.ModuleList([DecoderLayer(hidden_dim, n_heads, pf_dim, dropout_ratio, device) for _ in range(n_layers)])\n",
        "\n",
        "        self.fc_out = nn.Linear(hidden_dim, output_dim)\n",
        "\n",
        "        self.dropout = nn.Dropout(dropout_ratio)\n",
        "\n",
        "        self.scale = torch.sqrt(torch.FloatTensor([hidden_dim])).to(device)\n",
        "\n",
        "    def forward(self, trg, enc_source , target_mask, source_mask):\n",
        "        batch_size = trg.shape[0]\n",
        "        target_length = trg.shape[1] \n",
        "\n",
        "        pos = torch.arange(0, target_length).unsqueeze(0).repeat(batch_size,1).to(self.device) # encoder 와 마찬기자로 positional embedding 하나를 구현 \n",
        "\n",
        "        trg = self.dropout((self.tok_embedding(trg) * self.scale + self.pos_embedding(pos)))\n",
        "        for layer in self.layers:\n",
        "\n",
        "            trg, attention = layer(trg, enc_source, target_mask, source_mask)\n",
        "\n",
        "\n",
        "        output = self.fc_out(trg)\n",
        "\n",
        "\n",
        "        return output, attention"
      ],
      "metadata": {
        "id": "kYdmSA4VhRZU"
      },
      "execution_count": 21,
      "outputs": []
    },
    {
      "cell_type": "markdown",
      "source": [
        "## transformer 구조 \n",
        "- embedding 과 mask 구현 과정이 조금 헷갈리는데 이는 추후에 공부 후에 더 추가로 정리해서 올리겠습니다."
      ],
      "metadata": {
        "id": "fr4tvHT7jrKq"
      }
    },
    {
      "cell_type": "code",
      "source": [
        "class Transformer(nn.Module):\n",
        "    def __init__(self, encoder, decoder, src_pad_idx, trg_pad_idx, device):\n",
        "        super().__init__()\n",
        "\n",
        "        self.encoder = encoder\n",
        "        self.decoder = decoder\n",
        "        self.src_pad_idx = src_pad_idx\n",
        "        self.trg_pad_idx = trg_pad_idx\n",
        "        self.device = device\n",
        "\n",
        "\n",
        "    def make_src_mask(self, src):\n",
        "\n",
        "        src_mask = (src != self.src_pad_idx).unsqueeze(1).unsqueeze(2)\n",
        "        return src_mask\n",
        "\n",
        "    def make_trg_mask(self, trg):\n",
        "\n",
        "        trg_pad_mask = (trg != self.trg_pad_idx).unsqueeze(1).unsqueeze(2)\n",
        "\n",
        "\n",
        "\n",
        "        trg_len = trg.shape[1]\n",
        "\n",
        "        trg_sub_mask = torch.tril(torch.ones((trg_len, trg_len), device = self.device)).bool()\n",
        "\n",
        "\n",
        "        trg_mask = trg_pad_mask & trg_sub_mask\n",
        "\n",
        "\n",
        "        return trg_mask\n",
        "\n",
        "    def forward(self, src, trg):\n",
        "\n",
        "        src_mask = self.make_src_mask(src)\n",
        "        trg_mask = self.make_trg_mask(trg)\n",
        "\n",
        "\n",
        "        enc_src = self.encoder(src, src_mask) # encoder layers \n",
        "\n",
        "\n",
        "        output, attention = self.decoder(trg, enc_src, trg_mask, src_mask) # decoder layers \n",
        "\n",
        "\n",
        "\n",
        "        return output, attention"
      ],
      "metadata": {
        "id": "sXN7Wku9iqmP"
      },
      "execution_count": 22,
      "outputs": []
    },
    {
      "cell_type": "code",
      "source": [
        "INPUT_DIM = len(SOURCE.vocab)\n",
        "OUTPUT_DIM = len(TARGET.vocab)\n",
        "HIDDEN_DIM = 256\n",
        "ENC_LAYERS = 3\n",
        "DEC_LAYERS = 3\n",
        "ENC_HEADS = 8\n",
        "DEC_HEADS = 8\n",
        "ENC_PF_DIM = 512\n",
        "DEC_PF_DIM = 512\n",
        "ENC_DROPOUT = 0.1\n",
        "DEC_DROPOUT = 0.1"
      ],
      "metadata": {
        "id": "g22E5SdskHJB"
      },
      "execution_count": 23,
      "outputs": []
    },
    {
      "cell_type": "code",
      "source": [
        "SRC_PAD_IDX = SOURCE.vocab.stoi[SOURCE.pad_token]\n",
        "TRG_PAD_IDX = TARGET.vocab.stoi[TARGET.pad_token]\n",
        "\n",
        "# 인코더(encoder)와 디코더(decoder) 객체 선언\n",
        "enc = Encoder(INPUT_DIM, HIDDEN_DIM, ENC_LAYERS, ENC_HEADS, ENC_PF_DIM, ENC_DROPOUT, device)\n",
        "dec = Decoder(OUTPUT_DIM, HIDDEN_DIM, DEC_LAYERS, DEC_HEADS, DEC_PF_DIM, DEC_DROPOUT, device)\n",
        "\n",
        "# Transformer 객체 선언\n",
        "model = Transformer(enc, dec, SRC_PAD_IDX, TRG_PAD_IDX, device).to(device)"
      ],
      "metadata": {
        "id": "gXs7XefBkNko"
      },
      "execution_count": 24,
      "outputs": []
    },
    {
      "cell_type": "code",
      "source": [
        "def initialize_weights(m):\n",
        "    if hasattr(m, 'weight') and m.weight.dim() > 1:\n",
        "        nn.init.xavier_uniform_(m.weight.data)\n",
        "\n",
        "model.apply(initialize_weights)\n"
      ],
      "metadata": {
        "colab": {
          "base_uri": "https://localhost:8080/"
        },
        "id": "LaH5OgDqksca",
        "outputId": "5627d246-5b85-4e8e-d331-a18d0b65da0c"
      },
      "execution_count": 25,
      "outputs": [
        {
          "output_type": "execute_result",
          "data": {
            "text/plain": [
              "Transformer(\n",
              "  (encoder): Encoder(\n",
              "    (tok_embedding): Embedding(7853, 256)\n",
              "    (pos_embedding): Embedding(100, 256)\n",
              "    (layers): ModuleList(\n",
              "      (0): EncoderLayer(\n",
              "        (self_attn_layer_norm): LayerNorm((256,), eps=1e-05, elementwise_affine=True)\n",
              "        (ff_layer_norm): LayerNorm((256,), eps=1e-05, elementwise_affine=True)\n",
              "        (self_attention): MultiHeadAttentionLayer(\n",
              "          (dropout): Dropout(p=0.1, inplace=False)\n",
              "          (fc_q): Linear(in_features=256, out_features=256, bias=True)\n",
              "          (fc_k): Linear(in_features=256, out_features=256, bias=True)\n",
              "          (fc_v): Linear(in_features=256, out_features=256, bias=True)\n",
              "          (fc_o): Linear(in_features=256, out_features=256, bias=True)\n",
              "        )\n",
              "        (positionwise_feedforward): PositionwiseFeedFowwardLayer(\n",
              "          (layer1): Linear(in_features=256, out_features=512, bias=True)\n",
              "          (layer2): Linear(in_features=512, out_features=256, bias=True)\n",
              "          (dropout): Dropout(p=0.1, inplace=False)\n",
              "        )\n",
              "        (dropout): Dropout(p=0.1, inplace=False)\n",
              "      )\n",
              "      (1): EncoderLayer(\n",
              "        (self_attn_layer_norm): LayerNorm((256,), eps=1e-05, elementwise_affine=True)\n",
              "        (ff_layer_norm): LayerNorm((256,), eps=1e-05, elementwise_affine=True)\n",
              "        (self_attention): MultiHeadAttentionLayer(\n",
              "          (dropout): Dropout(p=0.1, inplace=False)\n",
              "          (fc_q): Linear(in_features=256, out_features=256, bias=True)\n",
              "          (fc_k): Linear(in_features=256, out_features=256, bias=True)\n",
              "          (fc_v): Linear(in_features=256, out_features=256, bias=True)\n",
              "          (fc_o): Linear(in_features=256, out_features=256, bias=True)\n",
              "        )\n",
              "        (positionwise_feedforward): PositionwiseFeedFowwardLayer(\n",
              "          (layer1): Linear(in_features=256, out_features=512, bias=True)\n",
              "          (layer2): Linear(in_features=512, out_features=256, bias=True)\n",
              "          (dropout): Dropout(p=0.1, inplace=False)\n",
              "        )\n",
              "        (dropout): Dropout(p=0.1, inplace=False)\n",
              "      )\n",
              "      (2): EncoderLayer(\n",
              "        (self_attn_layer_norm): LayerNorm((256,), eps=1e-05, elementwise_affine=True)\n",
              "        (ff_layer_norm): LayerNorm((256,), eps=1e-05, elementwise_affine=True)\n",
              "        (self_attention): MultiHeadAttentionLayer(\n",
              "          (dropout): Dropout(p=0.1, inplace=False)\n",
              "          (fc_q): Linear(in_features=256, out_features=256, bias=True)\n",
              "          (fc_k): Linear(in_features=256, out_features=256, bias=True)\n",
              "          (fc_v): Linear(in_features=256, out_features=256, bias=True)\n",
              "          (fc_o): Linear(in_features=256, out_features=256, bias=True)\n",
              "        )\n",
              "        (positionwise_feedforward): PositionwiseFeedFowwardLayer(\n",
              "          (layer1): Linear(in_features=256, out_features=512, bias=True)\n",
              "          (layer2): Linear(in_features=512, out_features=256, bias=True)\n",
              "          (dropout): Dropout(p=0.1, inplace=False)\n",
              "        )\n",
              "        (dropout): Dropout(p=0.1, inplace=False)\n",
              "      )\n",
              "    )\n",
              "    (dropout): Dropout(p=0.1, inplace=False)\n",
              "  )\n",
              "  (decoder): Decoder(\n",
              "    (tok_embedding): Embedding(5893, 256)\n",
              "    (pos_embedding): Embedding(100, 256)\n",
              "    (layers): ModuleList(\n",
              "      (0): DecoderLayer(\n",
              "        (self_attn_layer_norm): LayerNorm((256,), eps=1e-05, elementwise_affine=True)\n",
              "        (enc_attn_layer_norm): LayerNorm((256,), eps=1e-05, elementwise_affine=True)\n",
              "        (ff_layer_norm): LayerNorm((256,), eps=1e-05, elementwise_affine=True)\n",
              "        (self_attention): MultiHeadAttentionLayer(\n",
              "          (dropout): Dropout(p=0.1, inplace=False)\n",
              "          (fc_q): Linear(in_features=256, out_features=256, bias=True)\n",
              "          (fc_k): Linear(in_features=256, out_features=256, bias=True)\n",
              "          (fc_v): Linear(in_features=256, out_features=256, bias=True)\n",
              "          (fc_o): Linear(in_features=256, out_features=256, bias=True)\n",
              "        )\n",
              "        (encoder_attention): MultiHeadAttentionLayer(\n",
              "          (dropout): Dropout(p=0.1, inplace=False)\n",
              "          (fc_q): Linear(in_features=256, out_features=256, bias=True)\n",
              "          (fc_k): Linear(in_features=256, out_features=256, bias=True)\n",
              "          (fc_v): Linear(in_features=256, out_features=256, bias=True)\n",
              "          (fc_o): Linear(in_features=256, out_features=256, bias=True)\n",
              "        )\n",
              "        (postionwise_feedforward): PositionwiseFeedFowwardLayer(\n",
              "          (layer1): Linear(in_features=256, out_features=512, bias=True)\n",
              "          (layer2): Linear(in_features=512, out_features=256, bias=True)\n",
              "          (dropout): Dropout(p=0.1, inplace=False)\n",
              "        )\n",
              "        (dropout): Dropout(p=0.1, inplace=False)\n",
              "      )\n",
              "      (1): DecoderLayer(\n",
              "        (self_attn_layer_norm): LayerNorm((256,), eps=1e-05, elementwise_affine=True)\n",
              "        (enc_attn_layer_norm): LayerNorm((256,), eps=1e-05, elementwise_affine=True)\n",
              "        (ff_layer_norm): LayerNorm((256,), eps=1e-05, elementwise_affine=True)\n",
              "        (self_attention): MultiHeadAttentionLayer(\n",
              "          (dropout): Dropout(p=0.1, inplace=False)\n",
              "          (fc_q): Linear(in_features=256, out_features=256, bias=True)\n",
              "          (fc_k): Linear(in_features=256, out_features=256, bias=True)\n",
              "          (fc_v): Linear(in_features=256, out_features=256, bias=True)\n",
              "          (fc_o): Linear(in_features=256, out_features=256, bias=True)\n",
              "        )\n",
              "        (encoder_attention): MultiHeadAttentionLayer(\n",
              "          (dropout): Dropout(p=0.1, inplace=False)\n",
              "          (fc_q): Linear(in_features=256, out_features=256, bias=True)\n",
              "          (fc_k): Linear(in_features=256, out_features=256, bias=True)\n",
              "          (fc_v): Linear(in_features=256, out_features=256, bias=True)\n",
              "          (fc_o): Linear(in_features=256, out_features=256, bias=True)\n",
              "        )\n",
              "        (postionwise_feedforward): PositionwiseFeedFowwardLayer(\n",
              "          (layer1): Linear(in_features=256, out_features=512, bias=True)\n",
              "          (layer2): Linear(in_features=512, out_features=256, bias=True)\n",
              "          (dropout): Dropout(p=0.1, inplace=False)\n",
              "        )\n",
              "        (dropout): Dropout(p=0.1, inplace=False)\n",
              "      )\n",
              "      (2): DecoderLayer(\n",
              "        (self_attn_layer_norm): LayerNorm((256,), eps=1e-05, elementwise_affine=True)\n",
              "        (enc_attn_layer_norm): LayerNorm((256,), eps=1e-05, elementwise_affine=True)\n",
              "        (ff_layer_norm): LayerNorm((256,), eps=1e-05, elementwise_affine=True)\n",
              "        (self_attention): MultiHeadAttentionLayer(\n",
              "          (dropout): Dropout(p=0.1, inplace=False)\n",
              "          (fc_q): Linear(in_features=256, out_features=256, bias=True)\n",
              "          (fc_k): Linear(in_features=256, out_features=256, bias=True)\n",
              "          (fc_v): Linear(in_features=256, out_features=256, bias=True)\n",
              "          (fc_o): Linear(in_features=256, out_features=256, bias=True)\n",
              "        )\n",
              "        (encoder_attention): MultiHeadAttentionLayer(\n",
              "          (dropout): Dropout(p=0.1, inplace=False)\n",
              "          (fc_q): Linear(in_features=256, out_features=256, bias=True)\n",
              "          (fc_k): Linear(in_features=256, out_features=256, bias=True)\n",
              "          (fc_v): Linear(in_features=256, out_features=256, bias=True)\n",
              "          (fc_o): Linear(in_features=256, out_features=256, bias=True)\n",
              "        )\n",
              "        (postionwise_feedforward): PositionwiseFeedFowwardLayer(\n",
              "          (layer1): Linear(in_features=256, out_features=512, bias=True)\n",
              "          (layer2): Linear(in_features=512, out_features=256, bias=True)\n",
              "          (dropout): Dropout(p=0.1, inplace=False)\n",
              "        )\n",
              "        (dropout): Dropout(p=0.1, inplace=False)\n",
              "      )\n",
              "    )\n",
              "    (fc_out): Linear(in_features=256, out_features=5893, bias=True)\n",
              "    (dropout): Dropout(p=0.1, inplace=False)\n",
              "  )\n",
              ")"
            ]
          },
          "metadata": {},
          "execution_count": 25
        }
      ]
    },
    {
      "cell_type": "code",
      "source": [
        "import torch.optim as optim\n",
        "\n",
        "# Adam optimizer로 학습 최적화\n",
        "learn = 0.0001\n",
        "optimizer = torch.optim.Adam(model.parameters(), lr=learn)\n",
        "\n",
        "# 뒷 부분의 패딩(padding)에 대해서는 값 무시\n",
        "criterion = nn.CrossEntropyLoss(ignore_index = TRG_PAD_IDX)"
      ],
      "metadata": {
        "id": "bYKNyUhTm_Sd"
      },
      "execution_count": 26,
      "outputs": []
    },
    {
      "cell_type": "code",
      "source": [
        "def train(model, iterator, optimizer, criterion, clip):\n",
        "   \n",
        "    model.train()\n",
        "    epoch_loss = 0\n",
        "\n",
        "    for i, batch in enumerate(iterator):\n",
        "        src = batch.src\n",
        "        trg = batch.trg\n",
        "\n",
        "        optimizer.zero_grad()\n",
        "\n",
        "        output, _ = model(src, trg[:,:-1])\n",
        "\n",
        "        output_dim = output.shape[-1]\n",
        "\n",
        "        output = output.contiguous().view(-1, output_dim)\n",
        "\n",
        "        trg = trg[:,1:].contiguous().view(-1)\n",
        "\n",
        "        loss = criterion(output, trg)\n",
        "        loss.backward() \n",
        "\n",
        "\n",
        "        torch.nn.utils.clip_grad_norm_(model.parameters(), clip)\n",
        "\n",
        "        optimizer.step() \n",
        "        # step, clip , backward가 train에서 쓰인다.\n",
        "\n",
        "        epoch_loss += loss.item()\n",
        "\n",
        "    return epoch_loss / len(iterator)"
      ],
      "metadata": {
        "id": "tDSNDjOfnGB4"
      },
      "execution_count": 27,
      "outputs": []
    },
    {
      "cell_type": "code",
      "source": [
        "def evaluate(model, iterator, criterion):\n",
        "    model.eval()\n",
        "    epoch_loss = 0\n",
        "\n",
        "    with torch.no_grad():\n",
        "\n",
        "        for i, batch in enumerate(iterator):\n",
        "            src = batch.src\n",
        "            trg = batch.trg\n",
        "\n",
        " \n",
        "            output, _ = model(src, trg[:,:-1])\n",
        "\n",
        "            output_dim = output.shape[-1]\n",
        "\n",
        "            output = output.contiguous().view(-1, output_dim)\n",
        " \n",
        "            trg = trg[:,1:].contiguous().view(-1)\n",
        "\n",
        "            loss = criterion(output, trg)\n",
        "\n",
        "            epoch_loss += loss.item()\n",
        "\n",
        "    return epoch_loss / len(iterator)"
      ],
      "metadata": {
        "id": "xi9TVl7XnO9g"
      },
      "execution_count": 28,
      "outputs": []
    },
    {
      "cell_type": "code",
      "source": [
        "import math\n",
        "import time\n",
        "\n",
        "def epoch_time(start_time, end_time):\n",
        "    time = end_time - start_time\n",
        "    minute = int(time / 60)\n",
        "    second = int(time - (minute * 60))\n",
        "    return minute, second"
      ],
      "metadata": {
        "id": "PtuU7xG5nVhB"
      },
      "execution_count": 29,
      "outputs": []
    },
    {
      "cell_type": "code",
      "source": [
        "import time\n",
        "import math\n",
        "import random\n",
        "\n",
        "N_EPOCHS = 10\n",
        "CLIP = 1\n",
        "best_valid_loss = float('inf')\n",
        "\n",
        "for epoch in range(N_EPOCHS):\n",
        "    start_time = time.time()\n",
        "    # mostly time is measured for prevent black box time \n",
        "\n",
        "    train_loss = train(model, train_iterator, optimizer, criterion, CLIP)\n",
        "    valid_loss = evaluate(model, valid_iterator, criterion)\n",
        "\n",
        "    end_time = time.time() \n",
        "    epoch_mins, epoch_secs = epoch_time(start_time, end_time)\n",
        "\n",
        "    if valid_loss < best_valid_loss:\n",
        "        best_valid_loss = valid_loss\n",
        "        torch.save(model.state_dict(), 'transformer_german_to_english.pt')\n",
        "\n",
        "    print(f'Epoch: {epoch + 1:02} | Time: {epoch_mins}m {epoch_secs}s')\n",
        "    print(f'\\tTrain Loss: {train_loss:.3f} | Train PPL: {math.exp(train_loss):.3f}')\n",
        "    print(f'\\tValidation Loss: {valid_loss:.3f} | Validation PPL: {math.exp(valid_loss):.3f}')"
      ],
      "metadata": {
        "colab": {
          "base_uri": "https://localhost:8080/"
        },
        "id": "cjCyReEGnoHF",
        "outputId": "daa71f0d-cbe7-4099-cfdc-b84c806c9a13"
      },
      "execution_count": 30,
      "outputs": [
        {
          "output_type": "stream",
          "name": "stdout",
          "text": [
            "Epoch: 01 | Time: 0m 18s\n",
            "\tTrain Loss: 5.690 | Train PPL: 295.910\n",
            "\tValidation Loss: 4.179 | Validation PPL: 65.333\n",
            "Epoch: 02 | Time: 0m 16s\n",
            "\tTrain Loss: 3.935 | Train PPL: 51.175\n",
            "\tValidation Loss: 3.388 | Validation PPL: 29.617\n",
            "Epoch: 03 | Time: 0m 16s\n",
            "\tTrain Loss: 3.394 | Train PPL: 29.772\n",
            "\tValidation Loss: 2.973 | Validation PPL: 19.560\n",
            "Epoch: 04 | Time: 0m 16s\n",
            "\tTrain Loss: 3.054 | Train PPL: 21.191\n",
            "\tValidation Loss: 2.709 | Validation PPL: 15.016\n",
            "Epoch: 05 | Time: 0m 16s\n",
            "\tTrain Loss: 2.805 | Train PPL: 16.525\n",
            "\tValidation Loss: 2.520 | Validation PPL: 12.434\n",
            "Epoch: 06 | Time: 0m 16s\n",
            "\tTrain Loss: 2.609 | Train PPL: 13.583\n",
            "\tValidation Loss: 2.379 | Validation PPL: 10.798\n",
            "Epoch: 07 | Time: 0m 18s\n",
            "\tTrain Loss: 2.443 | Train PPL: 11.510\n",
            "\tValidation Loss: 2.259 | Validation PPL: 9.572\n",
            "Epoch: 08 | Time: 0m 17s\n",
            "\tTrain Loss: 2.303 | Train PPL: 10.007\n",
            "\tValidation Loss: 2.163 | Validation PPL: 8.698\n",
            "Epoch: 09 | Time: 0m 17s\n",
            "\tTrain Loss: 2.180 | Train PPL: 8.850\n",
            "\tValidation Loss: 2.086 | Validation PPL: 8.054\n",
            "Epoch: 10 | Time: 0m 17s\n",
            "\tTrain Loss: 2.071 | Train PPL: 7.937\n",
            "\tValidation Loss: 2.018 | Validation PPL: 7.525\n"
          ]
        }
      ]
    },
    {
      "cell_type": "code",
      "source": [
        "from google.colab import files\n",
        "\n",
        "files.download('transformer_german_to_english.pt')"
      ],
      "metadata": {
        "id": "bS0NTXoGnwXJ"
      },
      "execution_count": 30,
      "outputs": []
    },
    {
      "cell_type": "code",
      "source": [
        "!wget https://postechackr-my.sharepoint.com/:u:/g/personal/dongbinna_postech_ac_kr/EbWFiKBmscFBrbzCQxRyqwsBwcXgdKdimkdsBl2dE9VYaQ?download=1 -O transformer_german_to_english."
      ],
      "metadata": {
        "colab": {
          "base_uri": "https://localhost:8080/"
        },
        "id": "SR3rSuOtFayZ",
        "outputId": "9265756e-98a8-4bad-9c80-997b206a3c09"
      },
      "execution_count": 31,
      "outputs": [
        {
          "output_type": "stream",
          "name": "stdout",
          "text": [
            "--2022-08-13 16:43:08--  https://postechackr-my.sharepoint.com/:u:/g/personal/dongbinna_postech_ac_kr/EbWFiKBmscFBrbzCQxRyqwsBwcXgdKdimkdsBl2dE9VYaQ?download=1\n",
            "Resolving postechackr-my.sharepoint.com (postechackr-my.sharepoint.com)... 13.107.136.9, 13.107.138.9\n",
            "Connecting to postechackr-my.sharepoint.com (postechackr-my.sharepoint.com)|13.107.136.9|:443... connected.\n",
            "HTTP request sent, awaiting response... 302 Found\n",
            "Location: /personal/dongbinna_postech_ac_kr/Documents/Research/models/transformer_german_to_english.pt?ga=1 [following]\n",
            "--2022-08-13 16:43:09--  https://postechackr-my.sharepoint.com/personal/dongbinna_postech_ac_kr/Documents/Research/models/transformer_german_to_english.pt?ga=1\n",
            "Reusing existing connection to postechackr-my.sharepoint.com:443.\n",
            "HTTP request sent, awaiting response... 200 OK\n",
            "Length: 36208001 (35M) [application/octet-stream]\n",
            "Saving to: ‘transformer_german_to_english.’\n",
            "\n",
            "transformer_german_ 100%[===================>]  34.53M  9.35MB/s    in 4.3s    \n",
            "\n",
            "2022-08-13 16:43:14 (7.94 MB/s) - ‘transformer_german_to_english.’ saved [36208001/36208001]\n",
            "\n"
          ]
        }
      ]
    },
    {
      "cell_type": "code",
      "source": [
        "model.load_state_dict(torch.load('transformer_german_to_english.pt'))\n",
        "\n",
        "test_loss = evaluate(model, test_iterator, criterion)\n",
        "\n",
        "print(f'Test Loss: {test_loss:.3f} | Test PPL: {math.exp(test_loss):.3f}')"
      ],
      "metadata": {
        "colab": {
          "base_uri": "https://localhost:8080/"
        },
        "id": "6GhKpb9fFdIc",
        "outputId": "19f454f2-7b75-461f-c796-4560b31884f2"
      },
      "execution_count": 32,
      "outputs": [
        {
          "output_type": "stream",
          "name": "stdout",
          "text": [
            "Test Loss: 2.048 | Test PPL: 7.749\n"
          ]
        }
      ]
    },
    {
      "cell_type": "code",
      "source": [
        "def translate_sentence(sentence, src_field, trg_field, model, device, max_len=50, logging=True):\n",
        "    model.eval() #Not a training \n",
        "\n",
        "    if isinstance(sentence, str):\n",
        "        german_vocab  = spacy.load('de')\n",
        "        tokens = [token.text.lower() for token in german_vocab(sentence)]\n",
        "    else:\n",
        "        tokens = [token.lower() for token in sentence]\n",
        "\n",
        "    \n",
        "    tokens = [src_field.init_token] + tokens + [src_field.eos_token] # Get tokens with eos and sos \n",
        "    if logging: # Leaving an log \n",
        "        print(f\"total tokens: {tokens}\")\n",
        "\n",
        "    src_indexes = [src_field.vocab.stoi[token] for token in tokens]\n",
        "    if logging:\n",
        "        print(f\"Extraction of indexed : {src_indexes}\")\n",
        "\n",
        "    src_tensor = torch.LongTensor(src_indexes).unsqueeze(0).to(device) # Convert them into longtensor and unsqueeze(expand a dimension)\n",
        "\n",
        "    \n",
        "    src_mask = model.make_src_mask(src_tensor)\n",
        "\n",
        "    \n",
        "    with torch.no_grad():\n",
        "        enc_src = model.encoder(src_tensor, src_mask)\n",
        "        # Get the encoded source \n",
        "    # Just with start token \n",
        "    trg_indexes = [trg_field.vocab.stoi[trg_field.init_token]]\n",
        "\n",
        "    for i in range(max_len):\n",
        "        trg_tensor = torch.LongTensor(trg_indexes).unsqueeze(0).to(device)\n",
        "\n",
        "\n",
        "        trg_mask = model.make_trg_mask(trg_tensor)\n",
        "\n",
        "        with torch.no_grad():\n",
        "            output, attention = model.decoder(trg_tensor, enc_src, trg_mask, src_mask)\n",
        "\n",
        "        pred_token = output.argmax(2)[:,-1].item()\n",
        "        trg_indexes.append(pred_token) # This is very important part because we extend trg_indexes and then we make it \n",
        "\n",
        "        # If we meet an eos token, out of for loop. -> This means done with generated sentence\n",
        "        if pred_token == trg_field.vocab.stoi[trg_field.eos_token]:\n",
        "            break\n",
        "\n",
        "    \n",
        "    trg_tokens = [trg_field.vocab.itos[i] for i in trg_indexes] # convert with actual tokens \n",
        "\n",
        "    return trg_tokens[1:], attention # we are going to return token with eos. "
      ],
      "metadata": {
        "id": "qedFGtBLFfsj"
      },
      "execution_count": 33,
      "outputs": []
    },
    {
      "cell_type": "code",
      "source": [
        "example_idx = 60\n",
        "\n",
        "src = vars(test_dataset.examples[example_idx])['src']\n",
        "trg = vars(test_dataset.examples[example_idx])['trg']\n",
        "\n",
        "print(f'소스 문장: {src}')\n",
        "print(f'타겟 문장: {trg}')\n",
        "\n",
        "translation, attention = translate_sentence(src, SOURCE, TARGET, model, device, logging=True)\n",
        "\n",
        "print(\"모델 출력 결과:\", \" \".join(translation))"
      ],
      "metadata": {
        "colab": {
          "base_uri": "https://localhost:8080/"
        },
        "id": "2jK4P9lmHbMM",
        "outputId": "fee5c393-9d9e-4cde-cdc4-e9ce53884891"
      },
      "execution_count": 35,
      "outputs": [
        {
          "output_type": "stream",
          "name": "stdout",
          "text": [
            "소스 문장: ['ein', 'cheerleaderteam', 'macht', 'eine', 'übung', 'auf', 'stühlen', '.']\n",
            "타겟 문장: ['a', 'cheerleading', 'team', 'doing', 'a', 'routine', 'on', 'chairs', '.']\n",
            "total tokens: ['<sos>', 'ein', 'cheerleaderteam', 'macht', 'eine', 'übung', 'auf', 'stühlen', '.', '<eos>']\n",
            "Extraction of indexed : [2, 5, 0, 68, 8, 3552, 12, 581, 4, 3]\n",
            "모델 출력 결과: a <unk> is taking a <unk> in chairs . <eos>\n"
          ]
        }
      ]
    },
    {
      "cell_type": "markdown",
      "source": [
        "# Below code is the most important code in my opinion. \n",
        "In order to avoid DL's BlackBox, ploting the result of DL is essential"
      ],
      "metadata": {
        "id": "gkquLopVJwWU"
      }
    },
    {
      "cell_type": "code",
      "source": [
        "import matplotlib.pyplot as plt\n",
        "import matplotlib.ticker as ticker\n",
        "\n",
        "def display_attention(sentence, translation, attention, n_heads=8, n_rows=4, n_cols=2):\n",
        "\n",
        "    assert n_rows * n_cols == n_heads # check the size using assert \n",
        "\n",
        "    fig = plt.figure(figsize=(15, 25)) \n",
        "\n",
        "    for i in range(n_heads):\n",
        "        ax = fig.add_subplot(n_rows, n_cols, i + 1)\n",
        "\n",
        "        # Use attention score to plot -> kind of like heat map. we are going to plot attention score.. \n",
        "        attention_score = attention.squeeze(0)[i].cpu().detach().numpy() # Q. Is ploting with GPU variable unavailable?\n",
        "\n",
        "        cax = ax.matshow(attention_score, cmap='bone') \n",
        "\n",
        "        ax.tick_params(labelsize=12)\n",
        "        ax.set_xticklabels([''] + ['<sos>'] + [t.lower() for t in sentence] + ['<eos>'], rotation=45)\n",
        "        ax.set_yticklabels([''] + translation) # etc \n",
        "\n",
        "        ax.xaxis.set_major_locator(ticker.MultipleLocator(1))\n",
        "        ax.yaxis.set_major_locator(ticker.MultipleLocator(1))\n",
        "\n",
        "    plt.show()\n",
        "    plt.close()"
      ],
      "metadata": {
        "id": "BDwacokMHh1o"
      },
      "execution_count": 40,
      "outputs": []
    },
    {
      "cell_type": "code",
      "source": [
        "display_attention(src, translation, attention)"
      ],
      "metadata": {
        "colab": {
          "base_uri": "https://localhost:8080/",
          "height": 1000
        },
        "id": "gjKmRxt7Hr74",
        "outputId": "73c3d6ae-008b-47af-c2e2-f71fd59f7124"
      },
      "execution_count": 41,
      "outputs": [
        {
          "output_type": "display_data",
          "data": {
            "text/plain": [
              "<Figure size 1080x1800 with 8 Axes>"
            ],
            "image/png": "[encoded data removed]"
          },
          "metadata": {
            "needs_background": "light"
          }
        }
      ]
    },
    {
      "cell_type": "code",
      "source": [
        ""
      ],
      "metadata": {
        "id": "uUe6jwglHsos"
      },
      "execution_count": null,
      "outputs": []
    }
  ]
}