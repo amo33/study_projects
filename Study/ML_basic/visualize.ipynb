{
 "cells": [
  {
   "cell_type": "markdown",
   "metadata": {},
   "source": [
    "## 본 공부내용은 cnn layer들의 학습 시 layer의 모습을 시각화하는 공부입니다. \n",
    "### 본 코드 학습을 통해, layer들이 깊어짐에 따라 layer들의 학습 결과를 확인할 수 있습니다."
   ]
  },
  {
   "cell_type": "code",
   "execution_count": 11,
   "metadata": {},
   "outputs": [],
   "source": [
    "import tensorflow as tf \n",
    "import matplotlib.pyplot as plt\n",
    "mnist = tf.keras.datasets.fashion_mnist"
   ]
  },
  {
   "cell_type": "code",
   "execution_count": 3,
   "metadata": {},
   "outputs": [],
   "source": [
    "(training_images, training_labels) , (test_images, test_labels) = mnist.load_data()\n",
    "training_images = training_images.reshape(-1, 28,28,1)\n",
    "test_images = test_images.reshape(-1, 28,28,1)"
   ]
  },
  {
   "cell_type": "code",
   "execution_count": 4,
   "metadata": {},
   "outputs": [
    {
     "data": {
      "text/plain": [
       "(60000, 28, 28, 1)"
      ]
     },
     "execution_count": 4,
     "metadata": {},
     "output_type": "execute_result"
    }
   ],
   "source": [
    "training_images.shape"
   ]
  },
  {
   "cell_type": "code",
   "execution_count": 5,
   "metadata": {},
   "outputs": [
    {
     "data": {
      "text/plain": [
       "(10000, 28, 28, 1)"
      ]
     },
     "execution_count": 5,
     "metadata": {},
     "output_type": "execute_result"
    }
   ],
   "source": [
    "test_images.shape"
   ]
  },
  {
   "cell_type": "code",
   "execution_count": 6,
   "metadata": {},
   "outputs": [],
   "source": [
    "training_images , test_images = training_images / 255.0, test_images / 255.0"
   ]
  },
  {
   "cell_type": "code",
   "execution_count": 7,
   "metadata": {},
   "outputs": [],
   "source": [
    "def create_model():\n",
    "    model = tf.keras.models.Sequential([\n",
    "        tf.keras.layers.Conv2D(16, (3,3), activation='relu', input_shape=(28,28,1)),\n",
    "        tf.keras.layers.MaxPooling2D(pool_size=(2,2)),\n",
    "        tf.keras.layers.Dropout(0.2), # keras는 자동으로 dropout 해제된다. (only done while training)\n",
    "        tf.keras.layers.Conv2D(32,(3,3), activation='relu'),\n",
    "        tf.keras.layers.MaxPooling2D(pool_size=(2,2)),\n",
    "        tf.keras.layers.Flatten(), # tf.keras.layers.GlobalAveragePooling2D\n",
    "        tf.keras.layers.Dense(1024, activation='relu'),\n",
    "        tf.keras.layers.Dense(10, activation='softmax')\n",
    "    ])\n",
    "    model.compile(optimizer='adam', loss='sparse_categorical_crossentropy', metrics=['accuracy'])\n",
    "    return model "
   ]
  },
  {
   "cell_type": "code",
   "execution_count": 8,
   "metadata": {},
   "outputs": [],
   "source": [
    "model = create_model()"
   ]
  },
  {
   "cell_type": "code",
   "execution_count": 9,
   "metadata": {},
   "outputs": [
    {
     "name": "stdout",
     "output_type": "stream",
     "text": [
      "Model: \"sequential\"\n",
      "_________________________________________________________________\n",
      " Layer (type)                Output Shape              Param #   \n",
      "=================================================================\n",
      " conv2d (Conv2D)             (None, 26, 26, 16)        160       \n",
      "                                                                 \n",
      " max_pooling2d (MaxPooling2D  (None, 13, 13, 16)       0         \n",
      " )                                                               \n",
      "                                                                 \n",
      " dropout (Dropout)           (None, 13, 13, 16)        0         \n",
      "                                                                 \n",
      " conv2d_1 (Conv2D)           (None, 11, 11, 32)        4640      \n",
      "                                                                 \n",
      " max_pooling2d_1 (MaxPooling  (None, 5, 5, 32)         0         \n",
      " 2D)                                                             \n",
      "                                                                 \n",
      " flatten (Flatten)           (None, 800)               0         \n",
      "                                                                 \n",
      " dense (Dense)               (None, 1024)              820224    \n",
      "                                                                 \n",
      " dense_1 (Dense)             (None, 10)                10250     \n",
      "                                                                 \n",
      "=================================================================\n",
      "Total params: 835,274\n",
      "Trainable params: 835,274\n",
      "Non-trainable params: 0\n",
      "_________________________________________________________________\n"
     ]
    }
   ],
   "source": [
    "model.summary()"
   ]
  },
  {
   "cell_type": "code",
   "execution_count": 10,
   "metadata": {},
   "outputs": [
    {
     "name": "stdout",
     "output_type": "stream",
     "text": [
      "Epoch 1/10\n",
      "1875/1875 [==============================] - 35s 18ms/step - loss: 0.4769 - accuracy: 0.8250\n",
      "Epoch 2/10\n",
      "1875/1875 [==============================] - 37s 20ms/step - loss: 0.3222 - accuracy: 0.8820\n",
      "Epoch 3/10\n",
      "1875/1875 [==============================] - 37s 19ms/step - loss: 0.2796 - accuracy: 0.8963\n",
      "Epoch 4/10\n",
      "1875/1875 [==============================] - 42s 23ms/step - loss: 0.2489 - accuracy: 0.9068\n",
      "Epoch 5/10\n",
      "1875/1875 [==============================] - 36s 19ms/step - loss: 0.2298 - accuracy: 0.9143\n",
      "Epoch 6/10\n",
      "1875/1875 [==============================] - 35s 18ms/step - loss: 0.2092 - accuracy: 0.9216\n",
      "Epoch 7/10\n",
      "1875/1875 [==============================] - 35s 19ms/step - loss: 0.1940 - accuracy: 0.9252\n",
      "Epoch 8/10\n",
      "1875/1875 [==============================] - 38s 20ms/step - loss: 0.1768 - accuracy: 0.9329\n",
      "Epoch 9/10\n",
      "1875/1875 [==============================] - 37s 20ms/step - loss: 0.1616 - accuracy: 0.9388\n",
      "Epoch 10/10\n",
      "1875/1875 [==============================] - 36s 19ms/step - loss: 0.1507 - accuracy: 0.9425\n"
     ]
    }
   ],
   "source": [
    "history = model.fit(training_images, training_labels, epochs=10)"
   ]
  },
  {
   "cell_type": "code",
   "execution_count": 12,
   "metadata": {},
   "outputs": [
    {
     "name": "stdout",
     "output_type": "stream",
     "text": [
      "313/313 [==============================] - 2s 5ms/step - loss: 0.2574 - accuracy: 0.9154\n",
      "0.2573837339878082\n",
      "0.9154000282287598\n"
     ]
    }
   ],
   "source": [
    "test_loss , test_accuracy = model.evaluate(test_images, test_labels)\n",
    "print(test_loss)\n",
    "print(test_accuracy)"
   ]
  },
  {
   "cell_type": "code",
   "execution_count": 18,
   "metadata": {},
   "outputs": [],
   "source": [
    "train_loss , train_accuracy = history.history['loss'],history.history['accuracy']"
   ]
  },
  {
   "cell_type": "code",
   "execution_count": 53,
   "metadata": {},
   "outputs": [
    {
     "name": "stdout",
     "output_type": "stream",
     "text": [
      "t 0.2573837339878082\n"
     ]
    }
   ],
   "source": [
    "train_loss"
   ]
  },
  {
   "cell_type": "code",
   "execution_count": 39,
   "metadata": {},
   "outputs": [],
   "source": [
    "import numpy as np\n",
    "import pandas as pd"
   ]
  },
  {
   "cell_type": "code",
   "execution_count": 52,
   "metadata": {},
   "outputs": [
    {
     "name": "stdout",
     "output_type": "stream",
     "text": [
      "{'loss': [0.47688835859298706, 0.3221968710422516, 0.2795881927013397, 0.24889162182807922, 0.2297859936952591, 0.20918434858322144, 0.19400560855865479, 0.1767755001783371, 0.16159993410110474, 0.15066976845264435], 'accuracy': [0.8250333070755005, 0.8820000290870667, 0.8963333368301392, 0.9067833423614502, 0.9142666459083557, 0.9216166734695435, 0.9251833558082581, 0.9328500032424927, 0.9387833476066589, 0.9425166845321655]}\n",
      "   accuracy    test\n",
      "0  0.825033  0.9154\n",
      "1  0.882000  0.9154\n",
      "2  0.896333  0.9154\n",
      "3  0.906783  0.9154\n",
      "4  0.914267  0.9154\n",
      "5  0.921617  0.9154\n",
      "6  0.925183  0.9154\n",
      "7  0.932850  0.9154\n",
      "8  0.938783  0.9154\n",
      "9  0.942517  0.9154\n",
      "   accuracy    test\n",
      "0  0.825033  0.9154\n",
      "1  0.882000  0.9154\n",
      "2  0.896333  0.9154\n",
      "3  0.906783  0.9154\n",
      "4  0.914267  0.9154\n",
      "5  0.921617  0.9154\n",
      "6  0.925183  0.9154\n",
      "7  0.932850  0.9154\n",
      "8  0.938783  0.9154\n",
      "9  0.942517  0.9154\n"
     ]
    },
    {
     "data": {
      "image/png": "[encoded data removed]",
      "text/plain": [
       "<Figure size 864x576 with 1 Axes>"
      ]
     },
     "metadata": {
      "needs_background": "light"
     },
     "output_type": "display_data"
    },
    {
     "data": {
      "image/png": "[encoded data removed]",
      "text/plain": [
       "<Figure size 864x576 with 1 Axes>"
      ]
     },
     "metadata": {
      "needs_background": "light"
     },
     "output_type": "display_data"
    }
   ],
   "source": [
    "data = history.history \n",
    "print(data)\n",
    "df_loss = pd.DataFrame(data)\n",
    "# print(df_loss)\n",
    "\n",
    "df_loss.rename(columns = {'loss':'train'},inplace=True)\n",
    "df_loss['test'] = test_loss \n",
    "# print(df_loss)\n",
    "\n",
    "df_accuracy = pd.DataFrame(df_loss['accuracy'])\n",
    "df_loss.drop(columns='accuracy',inplace=True)\n",
    "df_accuracy['test'] = test_accuracy\n",
    "\n",
    "# df_accuracy.rename(columns={'accuracy':'train','val_accuracy':'validation'})\n",
    "df_loss[['train','test']].plot(title='Model loss',figsize=(12,8)).set(xlabel='Epoch',ylabel='Loss') # 특정 column만 뽑아서 plot 가능\n",
    "df_accuracy[['accuracy','test']].plot(title='Model accuracy',figsize=(12,8)).set(xlabel='Epoch',ylabel='Loss')\n",
    "print(df_accuracy)"
   ]
  },
  {
   "cell_type": "markdown",
   "metadata": {},
   "source": [
    "### 아래 코드가 본 공부의 핵심이다.\n",
    "1. layer_outputs 로 모델의 출력층을 모두 가져오고, activation model을 만들어 activation model에서 출력층에 접근할 수 있도록 했다.\n",
    "2. 3가지의 이미지 (임의의)에 대한 학습 filter 모습을 출력하는 것이다.   "
   ]
  },
  {
   "cell_type": "code",
   "execution_count": 57,
   "metadata": {},
   "outputs": [
    {
     "name": "stdout",
     "output_type": "stream",
     "text": [
      "1/1 [==============================] - 0s 56ms/step\n",
      "1/1 [==============================] - 0s 25ms/step\n",
      "1/1 [==============================] - 0s 24ms/step\n",
      "1/1 [==============================] - 0s 27ms/step\n",
      "1/1 [==============================] - 0s 27ms/step\n",
      "1/1 [==============================] - 0s 17ms/step\n",
      "1/1 [==============================] - 0s 14ms/step\n",
      "1/1 [==============================] - 0s 18ms/step\n",
      "1/1 [==============================] - 0s 18ms/step\n",
      "1/1 [==============================] - 0s 19ms/step\n",
      "1/1 [==============================] - 0s 18ms/step\n",
      "1/1 [==============================] - 0s 16ms/step\n",
      "1/1 [==============================] - 0s 17ms/step\n",
      "1/1 [==============================] - 0s 16ms/step\n",
      "1/1 [==============================] - 0s 19ms/step\n"
     ]
    },
    {
     "data": {
      "image/png": "[encoded data removed]",
      "text/plain": [
       "<Figure size 432x288 with 15 Axes>"
      ]
     },
     "metadata": {
      "needs_background": "light"
     },
     "output_type": "display_data"
    }
   ],
   "source": [
    "import matplotlib.pyplot as plt\n",
    "f, axarr = plt.subplots(3,5) \t\n",
    "\n",
    "FIRST_IMAGE=0\t\t\t\t\t\n",
    "SECOND_IMAGE=10\t\t\t\t\t\n",
    "THIRD_IMAGE=40\n",
    "CONVOLUTION_NUMBER = 10 # filter 중 10번째 filter가 어떤 feature를 추출하는지 확인 \t\t\t\n",
    "\n",
    "\n",
    "layer_outputs = [layer.output for layer in model.layers] # outputs들을 다 찾아서 activation_model에서 각 layer의 출력층에 접근할 수 있도록 합니다! \n",
    "activation_model = tf.keras.models.Model(inputs = model.input, outputs = layer_outputs)\n",
    "\n",
    "for x in range(0,5):\n",
    "  f1 = activation_model.predict(test_images[FIRST_IMAGE].reshape(1, 28, 28, 1))[x]\n",
    "  axarr[0,x].imshow(f1[0, : , :, CONVOLUTION_NUMBER], cmap='inferno')\n",
    "  axarr[0,x].grid(False)\n",
    "  f2 = activation_model.predict(test_images[SECOND_IMAGE].reshape(1, 28, 28, 1))[x]\n",
    "  axarr[1,x].imshow(f2[0, : , :, CONVOLUTION_NUMBER], cmap='inferno')\n",
    "  axarr[1,x].grid(False)\n",
    "  f3 = activation_model.predict(test_images[THIRD_IMAGE].reshape(1, 28, 28, 1))[x]\n",
    "  axarr[2,x].imshow(f3[0, : , :, CONVOLUTION_NUMBER], cmap='inferno')\n",
    "  axarr[2,x].grid(False)"
   ]
  },
  {
   "cell_type": "code",
   "execution_count": null,
   "metadata": {},
   "outputs": [],
   "source": []
  }
 ],
 "metadata": {
  "kernelspec": {
   "display_name": "Python 3.8.5 ('base')",
   "language": "python",
   "name": "python3"
  },
  "language_info": {
   "codemirror_mode": {
    "name": "ipython",
    "version": 3
   },
   "file_extension": ".py",
   "mimetype": "text/x-python",
   "name": "python",
   "nbconvert_exporter": "python",
   "pygments_lexer": "ipython3",
   "version": "3.8.5"
  },
  "orig_nbformat": 4,
  "vscode": {
   "interpreter": {
    "hash": "82f830dbf2bedede5f6a6fd84a718d579e894f86bdba96d28c0990c901c667f6"
   }
  }
 },
 "nbformat": 4,
 "nbformat_minor": 2
}
